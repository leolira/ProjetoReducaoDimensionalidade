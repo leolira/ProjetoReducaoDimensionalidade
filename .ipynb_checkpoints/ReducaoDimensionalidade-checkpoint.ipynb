{
 "cells": [
  {
   "cell_type": "code",
   "execution_count": 230,
   "id": "82a47cc6-1709-4720-ab0b-21ff2aff5d3e",
   "metadata": {},
   "outputs": [
    {
     "name": "stdout",
     "output_type": "stream",
     "text": [
      "Array dimension:  (400, 400, 3)\n",
      "Array Data type  uint8\n"
     ]
    },
    {
     "ename": "NameError",
     "evalue": "name 'imgArray' is not defined",
     "output_type": "error",
     "traceback": [
      "\u001b[0;31m---------------------------------------------------------------------------\u001b[0m",
      "\u001b[0;31mNameError\u001b[0m                                 Traceback (most recent call last)",
      "Cell \u001b[0;32mIn[230], line 50\u001b[0m\n\u001b[1;32m     47\u001b[0m             bw_array[i,j] \u001b[38;5;241m=\u001b[39m bw_value\n\u001b[1;32m     48\u001b[0m     \u001b[38;5;28;01mreturn\u001b[39;00m bw_array\n\u001b[0;32m---> 50\u001b[0m bw_img \u001b[38;5;241m=\u001b[39m toBlackAndWhite(gray_img)\n\u001b[1;32m     53\u001b[0m plt\u001b[38;5;241m.\u001b[39mimshow(img_array)\n\u001b[1;32m     54\u001b[0m plt\u001b[38;5;241m.\u001b[39mtitle(\u001b[38;5;124m\"\u001b[39m\u001b[38;5;124mImagem original\u001b[39m\u001b[38;5;124m\"\u001b[39m)\n",
      "Cell \u001b[0;32mIn[230], line 43\u001b[0m, in \u001b[0;36mtoBlackAndWhite\u001b[0;34m(grayImgArray, threshold)\u001b[0m\n\u001b[1;32m     42\u001b[0m \u001b[38;5;28;01mdef\u001b[39;00m \u001b[38;5;21mtoBlackAndWhite\u001b[39m(grayImgArray, threshold\u001b[38;5;241m=\u001b[39m\u001b[38;5;241m128\u001b[39m):\n\u001b[0;32m---> 43\u001b[0m     bw_array \u001b[38;5;241m=\u001b[39m np\u001b[38;5;241m.\u001b[39mzeros((imgArray\u001b[38;5;241m.\u001b[39mshape[\u001b[38;5;241m0\u001b[39m], imgArray\u001b[38;5;241m.\u001b[39mshape[\u001b[38;5;241m1\u001b[39m]), dtype\u001b[38;5;241m=\u001b[39mnp\u001b[38;5;241m.\u001b[39muint8)\n\u001b[1;32m     44\u001b[0m     \u001b[38;5;28;01mfor\u001b[39;00m i \u001b[38;5;129;01min\u001b[39;00m \u001b[38;5;28mrange\u001b[39m(grayImgArray\u001b[38;5;241m.\u001b[39mshape[\u001b[38;5;241m0\u001b[39m]):\n\u001b[1;32m     45\u001b[0m         \u001b[38;5;28;01mfor\u001b[39;00m j \u001b[38;5;129;01min\u001b[39;00m \u001b[38;5;28mrange\u001b[39m(grayImgArray\u001b[38;5;241m.\u001b[39mshape[\u001b[38;5;241m1\u001b[39m]):\n",
      "\u001b[0;31mNameError\u001b[0m: name 'imgArray' is not defined"
     ]
    }
   ],
   "source": [
    "import numpy as np\n",
    "import matplotlib.pyplot as plt\n",
    "from matplotlib.image import imread\n",
    "\n",
    "image_location = \"./img/Lena.jpg\"\n",
    "img_array_import = imread(image_location)\n",
    "\n",
    "#Cópia editável da imagem importada\n",
    "img_array = np.copy(img_array_import)\n",
    "\n",
    "#Dimensão array\n",
    "print(\"Array dimension: \", img_array.shape)\n",
    "#Tipo de array\n",
    "print(\"Array Data type \", img_array.dtype)\n",
    "\n",
    "#Exibe imagem\n",
    "# plt.imshow(img_array)\n",
    "\n",
    "# row = 0\n",
    "# column = 0\n",
    "# pixel_value = img_array[row, column]\n",
    "\n",
    "# print(f\"Pixel value on {row}, {column}: {pixel_value}\")\n",
    "\n",
    "#Destaca pixel\n",
    "#plt.scatter([column],[row], color='magenta', s=50)\n",
    "\n",
    "\n",
    "def toGrayScale(imgArray):\n",
    "    gray_array = np.zeros((imgArray.shape[0], imgArray.shape[1]), dtype=np.uint8)\n",
    "    for i in range(imgArray.shape[0]):\n",
    "        for j in range(imgArray.shape[1]):\n",
    "            red = imgArray[i,j,0]*0.2989\n",
    "            green = imgArray[i,j,1]*0.5870\n",
    "            blue = imgArray[i,j,2]*0.1140\n",
    "            gray_value = int(red+green+blue)\n",
    "            gray_array[i,j] = gray_value\n",
    "    return gray_array\n",
    "                   \n",
    "gray_img = toGrayScale(img_array)\n",
    "\n",
    "def toBlackAndWhite(grayImgArray, threshold=128):\n",
    "    bw_array = np.zeros((grayImgArray.shape[0], grayImgArray.shape[1]), dtype=np.uint8)\n",
    "    for i in range(grayImgArray.shape[0]):\n",
    "        for j in range(grayImgArray.shape[1]):\n",
    "            bw_value = 255 if grayImgArray[i,j] >= threshold else 0\n",
    "            bw_array[i,j] = bw_value\n",
    "    return bw_array\n",
    "\n",
    "bw_img = toBlackAndWhite(gray_img)\n",
    "\n",
    "\n",
    "plt.imshow(img_array)\n",
    "plt.title(\"Imagem original\")\n",
    "plt.show()\n",
    "\n",
    "plt.imshow(gray_img, cmap='gray')\n",
    "plt.title(\"Imagem Convertida para Escala de Cinza\")\n",
    "plt.show()\n",
    "\n",
    "plt.imshow(bw_img, cmap='gray')\n",
    "plt.title(\"Imagem Convertida para Preto e Branco\")\n",
    "plt.show()"
   ]
  }
 ],
 "metadata": {
  "kernelspec": {
   "display_name": "Python 3 (ipykernel)",
   "language": "python",
   "name": "python3"
  },
  "language_info": {
   "codemirror_mode": {
    "name": "ipython",
    "version": 3
   },
   "file_extension": ".py",
   "mimetype": "text/x-python",
   "name": "python",
   "nbconvert_exporter": "python",
   "pygments_lexer": "ipython3",
   "version": "3.12.7"
  }
 },
 "nbformat": 4,
 "nbformat_minor": 5
}
